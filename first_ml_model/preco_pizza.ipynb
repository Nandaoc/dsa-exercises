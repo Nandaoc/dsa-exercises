{
 "cells": [
  {
   "cell_type": "markdown",
   "id": "51c86314",
   "metadata": {},
   "source": [
    "# Prevendo o preço da pizza"
   ]
  },
  {
   "cell_type": "code",
   "execution_count": 2,
   "id": "9444af71",
   "metadata": {},
   "outputs": [],
   "source": [
    "# Importando bibliotecas\n",
    "import matplotlib.pyplot as plt\n",
    "import numpy as np\n",
    "%matplotlib inline"
   ]
  },
  {
   "cell_type": "markdown",
   "id": "6f03d51c",
   "metadata": {},
   "source": [
    "No caso proposto, temos os registros dos tamanhos e preços das últimas pizzas consumidas, como mostra a tabela abaixo:\n",
    "\n",
    "|Id|Diâmetro (cm)|Preço (R$)|\n",
    "|---|---|---|\n",
    "|1|7|8|\n",
    "|2|10|11|\n",
    "|3|15|16|\n",
    "|4|30|38.5|\n",
    "|5|45|52|\n",
    "\n",
    "A partir desses dados, vamos criar duas listas de forma que seja possível fazer uma `análise exploratória` simples dos dados, ou eja, vamos entender qual o tipo de relacionamento observável entre o diâmetro de uma pizza (em centímeros) e seu prelo (em reais).  "
   ]
  },
  {
   "cell_type": "code",
   "execution_count": 3,
   "id": "39446d58",
   "metadata": {},
   "outputs": [],
   "source": [
    "# Criando listas com os dados históricos coletados\n",
    "# Diâmetros\n",
    "diametros = [[7], [10], [15], [30], [45]]\n",
    "\n",
    "# Preços\n",
    "precos = [[8], [11], [16], [38.5], [52]]"
   ]
  },
  {
   "cell_type": "code",
   "execution_count": 10,
   "id": "1c5c91ed",
   "metadata": {},
   "outputs": [
    {
     "data": {
      "image/png": "[encoded data removed]",
      "text/plain": [
       "<Figure size 432x288 with 1 Axes>"
      ]
     },
     "metadata": {
      "needs_background": "light"
     },
     "output_type": "display_data"
    }
   ],
   "source": [
    "# Criando visualização com pyplot\n",
    "plt.figure()\n",
    "plt.xlabel(\"Diâmetro (cm)\")\n",
    "plt.ylabel(\"Preço (R$)\")\n",
    "plt.title(\"Diâmetro x Preço\")\n",
    "plt.plot(diametros, precos, \"k.\") # doc: https://matplotlib.org/stable/api/_as_gen/matplotlib.pyplot.plot.html\n",
    "plt.axis([0, 60, 0, 60]) # doc: https://matplotlib.org/stable/api/_as_gen/matplotlib.pyplot.axis.html\n",
    "plt.grid(True)\n",
    "plt.show()"
   ]
  },
  {
   "cell_type": "markdown",
   "id": "e75e4110",
   "metadata": {},
   "source": [
    "Podemos observar, pelo gráfico acima, que existe uma relação positiva entre o diâtro da pizza e seu preço: quanto maior o diâmetro, maior o preço.\n",
    "\n",
    "**Isso não significa que há uma relação de causalidade entre as duas variáveis.**\n",
    "\n",
    "O próximo passo será utilizar o scikit-learn para estimar o valor da pizza através da utilização dos métodos `fit()`, que é responsável por aprender os valores históricos passados, e o `predict()`, que vai prever os valores futuros de uma variável que é dependente em uma relação de variáveis partindo dos valores aprendidos. "
   ]
  },
  {
   "cell_type": "code",
   "execution_count": 11,
   "id": "c748e86d",
   "metadata": {},
   "outputs": [],
   "source": [
    "# Importanto módulo de regressão linear\n",
    "# doc: https://scikit-learn.org/stable/modules/generated/sklearn.linear_model.LinearRegression.html\n",
    "from sklearn.linear_model import LinearRegression "
   ]
  },
  {
   "cell_type": "code",
   "execution_count": 12,
   "id": "e72b5735",
   "metadata": {},
   "outputs": [],
   "source": [
    "# Criando o modelo a partir da instância da classe LinearRegressions\n",
    "modelo = LinearRegression()"
   ]
  },
  {
   "cell_type": "code",
   "execution_count": 13,
   "id": "785b20ac",
   "metadata": {},
   "outputs": [
    {
     "data": {
      "text/plain": [
       "LinearRegression()"
      ]
     },
     "execution_count": 13,
     "metadata": {},
     "output_type": "execute_result"
    }
   ],
   "source": [
    "# Treinando o modelo\n",
    "modelo.fit(diametros, precos)"
   ]
  },
  {
   "cell_type": "code",
   "execution_count": 17,
   "id": "36c9a049",
   "metadata": {},
   "outputs": [
    {
     "name": "stdout",
     "output_type": "stream",
     "text": [
      "Uma pizza de 20 cm de diâmetro deve custar: R$23.41\n"
     ]
    }
   ],
   "source": [
    "# Prevendo o preço de uma pizza de 20 cm\n",
    "# serão apresentados dados ainda desconhecidos pelo modelo\n",
    "print(\"Uma pizza de 20 cm de diâmetro deve custar: R$%.2f\" % modelo.predict([[20]]))\n"
   ]
  },
  {
   "cell_type": "markdown",
   "id": "2ba936ab",
   "metadata": {},
   "source": [
    "## Como o modelo aprende? \n",
    "\n",
    "O modelo de regressão linear aplica uma fórmula matemática para aprender qual será o comportamento futuro de uma variável dependente em uma relação enre variáveis. A fórmula para fazer o cálculo é a seguinte: \n",
    "\n",
    "**y = α + βx**, onde:\n",
    "\n",
    "- *y* é a variável dependente na relação (preço da pizza);\n",
    "- *x* é a variável explanatória/explicativa, que influencia a variável dependente (diâmetro da pizza);\n",
    "- *α* é o coeficiente linear;\n",
    "- *β* é o coeficiente angular. "
   ]
  },
  {
   "cell_type": "code",
   "execution_count": null,
   "id": "924f6025",
   "metadata": {},
   "outputs": [],
   "source": []
  }
 ],
 "metadata": {
  "kernelspec": {
   "display_name": "Python 3",
   "language": "python",
   "name": "python3"
  },
  "language_info": {
   "codemirror_mode": {
    "name": "ipython",
    "version": 3
   },
   "file_extension": ".py",
   "mimetype": "text/x-python",
   "name": "python",
   "nbconvert_exporter": "python",
   "pygments_lexer": "ipython3",
   "version": "3.8.8"
  }
 },
 "nbformat": 4,
 "nbformat_minor": 5
}
